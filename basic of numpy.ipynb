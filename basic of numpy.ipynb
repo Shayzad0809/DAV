{
  "nbformat": 4,
  "nbformat_minor": 0,
  "metadata": {
    "colab": {
      "provenance": [],
      "authorship_tag": "ABX9TyP1yKYR5Rz8NgJx+1NqHyDB",
      "include_colab_link": true
    },
    "kernelspec": {
      "name": "python3",
      "display_name": "Python 3"
    },
    "language_info": {
      "name": "python"
    }
  },
  "cells": [
    {
      "cell_type": "markdown",
      "metadata": {
        "id": "view-in-github",
        "colab_type": "text"
      },
      "source": [
        "<a href=\"https://colab.research.google.com/github/Shayzad0809/DAV/blob/main/basic%20of%20numpy.ipynb\" target=\"_parent\"><img src=\"https://colab.research.google.com/assets/colab-badge.svg\" alt=\"Open In Colab\"/></a>"
      ]
    },
    {
      "cell_type": "code",
      "execution_count": 1,
      "metadata": {
        "id": "zzCj64018ix-"
      },
      "outputs": [],
      "source": [
        "import numpy as np"
      ]
    },
    {
      "cell_type": "code",
      "source": [
        "arr_1d = np.array([1, 2, 3, 4, 5])\n",
        "arr_2d = np.array([[1, 2, 3],\n",
        "                   [4, 5, 6],\n",
        "                   [7, 8, 9]])\n",
        "arr_3d = np.array([[[1, 2, 3],\n",
        "                    [4, 5, 6]],\n",
        "                   [[7, 8, 9],\n",
        "                    [10, 11, 12]]])\n"
      ],
      "metadata": {
        "id": "BarHGfXF8koC"
      },
      "execution_count": 2,
      "outputs": []
    },
    {
      "cell_type": "code",
      "source": [
        "print(\"1D Array:\")\n",
        "print(\"Shape:\", arr_1d.shape)\n",
        "print(\"Size:\", arr_1d.size)\n",
        "print(\"Dimension:\", arr_1d.ndim)\n",
        "print(\"Length:\", len(arr_1d))\n",
        "print()\n"
      ],
      "metadata": {
        "colab": {
          "base_uri": "https://localhost:8080/"
        },
        "id": "8YWp9teU8kr5",
        "outputId": "55e823b3-3247-43eb-9f7e-4fbb56074dc1"
      },
      "execution_count": 3,
      "outputs": [
        {
          "output_type": "stream",
          "name": "stdout",
          "text": [
            "1D Array:\n",
            "Shape: (5,)\n",
            "Size: 5\n",
            "Dimension: 1\n",
            "Length: 5\n",
            "\n"
          ]
        }
      ]
    },
    {
      "cell_type": "code",
      "source": [
        "print(\"2D Array:\")\n",
        "print(\"Shape:\", arr_2d.shape)\n",
        "print(\"Size:\", arr_2d.size)\n",
        "print(\"Dimension:\", arr_2d.ndim)\n",
        "print(\"Length:\", len(arr_2d))\n",
        "print()\n"
      ],
      "metadata": {
        "colab": {
          "base_uri": "https://localhost:8080/"
        },
        "id": "4IbUegVd8kvI",
        "outputId": "1b17ef1d-0577-4346-d6c7-a097172bd769"
      },
      "execution_count": 4,
      "outputs": [
        {
          "output_type": "stream",
          "name": "stdout",
          "text": [
            "2D Array:\n",
            "Shape: (3, 3)\n",
            "Size: 9\n",
            "Dimension: 2\n",
            "Length: 3\n",
            "\n"
          ]
        }
      ]
    },
    {
      "cell_type": "code",
      "source": [
        "print(\"3D Array:\")\n",
        "print(\"Shape:\", arr_3d.shape)\n",
        "print(\"Size:\", arr_3d.size)\n",
        "print(\"Dimension:\", arr_3d.ndim)\n",
        "print(\"Length:\", len(arr_3d))\n",
        "print()"
      ],
      "metadata": {
        "colab": {
          "base_uri": "https://localhost:8080/"
        },
        "id": "sATPCkE59FAd",
        "outputId": "8f84164a-b933-4023-910f-074ea89fbe68"
      },
      "execution_count": 5,
      "outputs": [
        {
          "output_type": "stream",
          "name": "stdout",
          "text": [
            "3D Array:\n",
            "Shape: (2, 2, 3)\n",
            "Size: 12\n",
            "Dimension: 3\n",
            "Length: 2\n",
            "\n"
          ]
        }
      ]
    },
    {
      "cell_type": "code",
      "source": [
        "print(\"Examples of array creation functions:\")\n",
        "print(\"np.arange(5):\", np.arange(5))\n",
        "print(\"np.random.randint(1, 10, size=(2, 3)):\")\n",
        "print(np.random.randint(1, 10, size=(2, 3)))\n",
        "print(\"np.random.rand(2, 3):\")\n",
        "print(np.random.rand(2, 3))\n",
        "print(\"np.linspace(0, 10, 5):\", np.linspace(0, 10, 5))\n",
        "print(\"np.ones((2, 3)):\")\n",
        "print(np.ones((2, 3)))\n",
        "print(\"np.zeros((2, 3)):\")\n",
        "print(np.zeros((2, 3)))\n",
        "print(\"np.diag([1, 2, 3]):\")\n",
        "print(np.diag([1, 2, 3]))"
      ],
      "metadata": {
        "colab": {
          "base_uri": "https://localhost:8080/"
        },
        "id": "aTOTcyH59FH0",
        "outputId": "e3a7640c-f454-4378-ae88-56e802b502c7"
      },
      "execution_count": 6,
      "outputs": [
        {
          "output_type": "stream",
          "name": "stdout",
          "text": [
            "Examples of array creation functions:\n",
            "np.arange(5): [0 1 2 3 4]\n",
            "np.random.randint(1, 10, size=(2, 3)):\n",
            "[[6 5 8]\n",
            " [1 8 8]]\n",
            "np.random.rand(2, 3):\n",
            "[[0.90978517 0.10422044 0.70238813]\n",
            " [0.4971327  0.79794926 0.48766497]]\n",
            "np.linspace(0, 10, 5): [ 0.   2.5  5.   7.5 10. ]\n",
            "np.ones((2, 3)):\n",
            "[[1. 1. 1.]\n",
            " [1. 1. 1.]]\n",
            "np.zeros((2, 3)):\n",
            "[[0. 0. 0.]\n",
            " [0. 0. 0.]]\n",
            "np.diag([1, 2, 3]):\n",
            "[[1 0 0]\n",
            " [0 2 0]\n",
            " [0 0 3]]\n"
          ]
        }
      ]
    },
    {
      "cell_type": "code",
      "source": [
        "print(\"\\nExamples of aggregation functions:\")\n",
        "print(\"Sum of arr_2d:\", np.sum(arr_2d))\n",
        "print(\"Min of arr_1d:\", np.min(arr_1d))\n",
        "print(\"Max of arr_3d:\", np.max(arr_3d))\n",
        "print(\"Mean of arr_2d:\", np.mean(arr_2d))\n"
      ],
      "metadata": {
        "colab": {
          "base_uri": "https://localhost:8080/"
        },
        "id": "Jl44PXg98kyZ",
        "outputId": "f0eca2ad-5d59-4ea8-e980-db4e4d8e39b0"
      },
      "execution_count": 7,
      "outputs": [
        {
          "output_type": "stream",
          "name": "stdout",
          "text": [
            "\n",
            "Examples of aggregation functions:\n",
            "Sum of arr_2d: 45\n",
            "Min of arr_1d: 1\n",
            "Max of arr_3d: 12\n",
            "Mean of arr_2d: 5.0\n"
          ]
        }
      ]
    }
  ]
}